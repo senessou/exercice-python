{
 "cells": [
  {
   "cell_type": "code",
   "execution_count": 36,
   "id": "c69a6de8",
   "metadata": {},
   "outputs": [
    {
     "name": "stdout",
     "output_type": "stream",
     "text": [
      "120\n"
     ]
    }
   ],
   "source": [
    "#exercice 1: Ecrire une fonction qui retourne la factorielle d'un nombre entier N.\n",
    "\n",
    "def factorielle(N):\n",
    "    fact = 1\n",
    "    for i in range(1, N+1):\n",
    "        fact = fact * i\n",
    "    print(fact)\n",
    "    \n",
    "factorielle(5)"
   ]
  },
  {
   "cell_type": "code",
   "execution_count": 39,
   "id": "b4d04c14",
   "metadata": {},
   "outputs": [
    {
     "name": "stdout",
     "output_type": "stream",
     "text": [
      "1\n",
      "3\n",
      "5\n",
      "7\n",
      "9\n",
      "11\n"
     ]
    }
   ],
   "source": [
    "# exercice n2 Ecrire  une  fonction  qui  reçoit  un  paramètre  N  et  qui  nous  retourne  la  liste  des  nombres impair\n",
    " \n",
    "def impaire(P):\n",
    "    i = 0\n",
    "    while i <= P:\n",
    "        if i % 2 == 1:\n",
    "            print(i)\n",
    "        i = i + 1\n",
    "impaire(11)    "
   ]
  },
  {
   "cell_type": "code",
   "execution_count": 62,
   "id": "2978df4b",
   "metadata": {},
   "outputs": [
    {
     "data": {
      "text/plain": [
       "[17, 38, 10, 25, 72]"
      ]
     },
     "execution_count": 62,
     "metadata": {},
     "output_type": "execute_result"
    }
   ],
   "source": [
    "#exercice n3 Définir la liste : liste =[17, 38, 10, 25, 72], puis effectuez les actions suivantes : \n",
    "liste = [17, 38,10, 25, 72]\n",
    "liste\n"
   ]
  },
  {
   "cell_type": "code",
   "execution_count": 63,
   "id": "389ec56b",
   "metadata": {},
   "outputs": [
    {
     "data": {
      "text/plain": [
       "[10, 17, 25, 38, 72]"
      ]
     },
     "execution_count": 63,
     "metadata": {},
     "output_type": "execute_result"
    }
   ],
   "source": [
    "#1. triez et affichez la liste \n",
    "liste.sort()\n",
    "liste"
   ]
  },
  {
   "cell_type": "code",
   "execution_count": 64,
   "id": "f441f7e6",
   "metadata": {},
   "outputs": [
    {
     "data": {
      "text/plain": [
       "[10, 17, 25, 38, 72, 12]"
      ]
     },
     "execution_count": 64,
     "metadata": {},
     "output_type": "execute_result"
    }
   ],
   "source": [
    "#ajoutez l’élément 12 à la liste et affichez la liste ; \n",
    "liste.append(12) \n",
    "liste\n"
   ]
  },
  {
   "cell_type": "code",
   "execution_count": 65,
   "id": "6dc55140",
   "metadata": {},
   "outputs": [
    {
     "data": {
      "text/plain": [
       "[12, 72, 38, 25, 17, 10]"
      ]
     },
     "execution_count": 65,
     "metadata": {},
     "output_type": "execute_result"
    }
   ],
   "source": [
    "# #renversez et affichez la liste ;\n",
    "liste.reverse()\n",
    "liste"
   ]
  },
  {
   "cell_type": "code",
   "execution_count": 66,
   "id": "872820cd",
   "metadata": {},
   "outputs": [
    {
     "data": {
      "text/plain": [
       "6"
      ]
     },
     "execution_count": 66,
     "metadata": {},
     "output_type": "execute_result"
    }
   ],
   "source": [
    "# #affichez le nombre d’éléments  de la liste ; \n",
    "len(liste)"
   ]
  },
  {
   "cell_type": "code",
   "execution_count": 67,
   "id": "fef18d38",
   "metadata": {},
   "outputs": [
    {
     "data": {
      "text/plain": [
       "[12, 72, 25, 17, 10]"
      ]
     },
     "execution_count": 67,
     "metadata": {},
     "output_type": "execute_result"
    }
   ],
   "source": [
    "# #supprimez l’élément 38 et affichez la liste ;\n",
    "liste.remove(38)\n",
    "liste"
   ]
  },
  {
   "cell_type": "code",
   "execution_count": 69,
   "id": "5535d634",
   "metadata": {},
   "outputs": [
    {
     "data": {
      "text/plain": [
       "[72, 25]"
      ]
     },
     "execution_count": 69,
     "metadata": {},
     "output_type": "execute_result"
    }
   ],
   "source": [
    "# #affichez la sous-liste du 2e au 3e élément ; \n",
    "liste[1:3]"
   ]
  },
  {
   "cell_type": "code",
   "execution_count": 70,
   "id": "bcedc111",
   "metadata": {},
   "outputs": [
    {
     "data": {
      "text/plain": [
       "[12, 72, 25]"
      ]
     },
     "execution_count": 70,
     "metadata": {},
     "output_type": "execute_result"
    }
   ],
   "source": [
    "# #affichez la sous-liste du début au 2e élément ;  \n",
    "liste[:3]"
   ]
  },
  {
   "cell_type": "code",
   "execution_count": 72,
   "id": "6eef7df9",
   "metadata": {},
   "outputs": [
    {
     "data": {
      "text/plain": [
       "[25, 17, 10]"
      ]
     },
     "execution_count": 72,
     "metadata": {},
     "output_type": "execute_result"
    }
   ],
   "source": [
    "#affichez la sous-liste du 3e élément à la fin de la liste ; \n",
    "liste[2:]"
   ]
  },
  {
   "cell_type": "code",
   "execution_count": 57,
   "id": "f86f3632",
   "metadata": {},
   "outputs": [
    {
     "data": {
      "text/plain": [
       "{1, 2, 4, 5, 9}"
      ]
     },
     "execution_count": 57,
     "metadata": {},
     "output_type": "execute_result"
    }
   ],
   "source": [
    "#Ecrire3 une fonction qui supprime les doublons d’une liste. \n",
    "\n",
    "#Exemple : la fonction reçoit [1, 1, 2, 4, 9, 2, 5, 4] et retourne [1, 2, 4, 9, 5].\n",
    "\n",
    "liste1 = [1, 1, 2, 4, 9, 2, 5, 4]\n",
    "def listToSet(list):\n",
    "    return set(list)\n",
    "\n",
    "listToSet(liste1)"
   ]
  },
  {
   "cell_type": "code",
   "execution_count": null,
   "id": "3f0dccd4",
   "metadata": {},
   "outputs": [],
   "source": []
  }
 ],
 "metadata": {
  "kernelspec": {
   "display_name": "Python 3",
   "language": "python",
   "name": "python3"
  },
  "language_info": {
   "codemirror_mode": {
    "name": "ipython",
    "version": 3
   },
   "file_extension": ".py",
   "mimetype": "text/x-python",
   "name": "python",
   "nbconvert_exporter": "python",
   "pygments_lexer": "ipython3",
   "version": "3.8.8"
  }
 },
 "nbformat": 4,
 "nbformat_minor": 5
}
