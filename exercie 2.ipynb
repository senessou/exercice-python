{
 "cells": [
  {
   "cell_type": "code",
   "execution_count": 38,
   "id": "02e9417f",
   "metadata": {},
   "outputs": [
    {
     "name": "stdout",
     "output_type": "stream",
     "text": [
      "33.22\n",
      "Obésité modérée\n"
     ]
    }
   ],
   "source": [
    "#Exercice 1.1 \n",
    "\n",
    "\n",
    "def IMC(masse, taille):\n",
    "    metre = taille / 100\n",
    "    taille = metre * metre\n",
    "    imc = masse / taille\n",
    "    print(\"%.2f\"%(imc))\n",
    "    if imc < 18.5:\n",
    "        print(\"Insuffisance ponderale maigreur\")\n",
    "    elif ((imc >= 18.8) and (imc <= 25)):\n",
    "        print(\"Corpulence normale\")\n",
    "    elif ((imc > 25) and (imc <= 30)):\n",
    "        print(\"Surpoids\")\n",
    "    elif ((imc > 30) and (imc <= 35)):\n",
    "        print(\"Obésité modérée\")\n",
    "    elif ((imc > 35) and (imc <= 40)):\n",
    "        print(\"Obesité sévère\")\n",
    "    else:\n",
    "        print(\"Obésité morbide ou massive\")\n",
    "\n",
    "IMC(96, 170)\n"
   ]
  },
  {
   "cell_type": "code",
   "execution_count": 35,
   "id": "b980145a",
   "metadata": {},
   "outputs": [
    {
     "name": "stdout",
     "output_type": "stream",
     "text": [
      "bac avec mention Très Bien\n"
     ]
    }
   ],
   "source": [
    "#Exercice 1.2 \n",
    "\n",
    "def mention(note):\n",
    "    if (note >= 16):\n",
    "        print('bac avec mention Très Bien')\n",
    "    if ((note >= 15) and (note < 16)):\n",
    "        print('bac avec mention Bien')\n",
    "    if ((note >= 13) and (note < 15)):\n",
    "        print(\"bac avec mention Assez Bien\")\n",
    "    elif ((note >= 10.9) and (note <= 12) ):\n",
    "        print(\"bac avec mention Passable\")\n",
    "    elif note <= 4:\n",
    "        print(\"Recalé\")\n",
    "    \n",
    "mention(16)"
   ]
  },
  {
   "cell_type": "code",
   "execution_count": 51,
   "id": "aa5c5364",
   "metadata": {},
   "outputs": [
    {
     "name": "stdout",
     "output_type": "stream",
     "text": [
      "55.3896 cm\n"
     ]
    }
   ],
   "source": [
    "#Exercice 1.3\n",
    "\n",
    "def aireCercle(rayon, unite):\n",
    "    aire = rayon * rayon * 3.14\n",
    "    return print(aire,unite)\n",
    "\n",
    "aireCercle(4.2, 'cm')"
   ]
  },
  {
   "cell_type": "code",
   "execution_count": null,
   "id": "f4b88cc4",
   "metadata": {},
   "outputs": [],
   "source": []
  }
 ],
 "metadata": {
  "kernelspec": {
   "display_name": "Python 3",
   "language": "python",
   "name": "python3"
  },
  "language_info": {
   "codemirror_mode": {
    "name": "ipython",
    "version": 3
   },
   "file_extension": ".py",
   "mimetype": "text/x-python",
   "name": "python",
   "nbconvert_exporter": "python",
   "pygments_lexer": "ipython3",
   "version": "3.8.8"
  }
 },
 "nbformat": 4,
 "nbformat_minor": 5
}
